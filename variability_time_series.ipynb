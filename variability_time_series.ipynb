{
 "cells": [
  {
   "cell_type": "markdown",
   "metadata": {},
   "source": [
    "## This explores the variability of AMOC time series."
   ]
  },
  {
   "cell_type": "code",
   "execution_count": 2,
   "metadata": {},
   "outputs": [],
   "source": [
    "# Preprocessing, and import data here\n"
   ]
  },
  {
   "cell_type": "code",
   "execution_count": null,
   "metadata": {},
   "outputs": [],
   "source": [
    "import pandas as pd\n",
    "\n",
    "# Load your data (adjust path and separator as needed)\n",
    "df = pd.read_csv(\"AMOC_test.txt\", sep=\"\\t\")\n",
    "\n",
    "# Drop the 'year' column and isolate the AMOC values\n",
    "data = df.drop(columns='year')\n",
    "\n",
    "# Step 1: Compute anomalies (remove mean from each column)\n",
    "anomalies = data.apply(lambda x: x - x.mean())\n",
    "\n",
    "# Step 2: Interannual variability (variance of anomalies)\n",
    "interannual_var = anomalies.var()\n",
    "\n",
    "# Step 3: Decadal variability\n",
    "# Smooth with a 10-year rolling mean and compute variance again\n",
    "decadal_smoothed = anomalies.rolling(window=10, center=True).mean()\n",
    "decadal_var = decadal_smoothed.var()\n",
    "\n",
    "# Combine results in a table\n",
    "variability_comparison = pd.DataFrame({\n",
    "    'Interannual Variability (var)': interannual_var,\n",
    "    'Decadal Variability (var)': decadal_var\n",
    "})\n",
    "\n",
    "# Display result\n",
    "print(variability_comparison)"
   ]
  }
 ],
 "metadata": {
  "kernelspec": {
   "display_name": "base",
   "language": "python",
   "name": "python3"
  },
  "language_info": {
   "codemirror_mode": {
    "name": "ipython",
    "version": 3
   },
   "file_extension": ".py",
   "mimetype": "text/x-python",
   "name": "python",
   "nbconvert_exporter": "python",
   "pygments_lexer": "ipython3",
   "version": "3.11.7"
  }
 },
 "nbformat": 4,
 "nbformat_minor": 2
}
